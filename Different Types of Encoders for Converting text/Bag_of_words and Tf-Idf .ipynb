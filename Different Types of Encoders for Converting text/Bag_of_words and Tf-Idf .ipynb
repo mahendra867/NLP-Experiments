{
 "cells": [
  {
   "cell_type": "code",
   "execution_count": 1,
   "metadata": {},
   "outputs": [
    {
     "name": "stdout",
     "output_type": "stream",
     "text": [
      "Requirement already satisfied: nltk in c:\\users\\mahen\\anaconda\\lib\\site-packages (3.8.1)\n",
      "Requirement already satisfied: click in c:\\users\\mahen\\anaconda\\lib\\site-packages (from nltk) (8.1.7)\n",
      "Requirement already satisfied: joblib in c:\\users\\mahen\\anaconda\\lib\\site-packages (from nltk) (1.2.0)\n",
      "Requirement already satisfied: regex>=2021.8.3 in c:\\users\\mahen\\anaconda\\lib\\site-packages (from nltk) (2022.7.9)\n",
      "Requirement already satisfied: tqdm in c:\\users\\mahen\\anaconda\\lib\\site-packages (from nltk) (4.65.0)\n",
      "Requirement already satisfied: colorama in c:\\users\\mahen\\anaconda\\lib\\site-packages (from click->nltk) (0.4.6)\n"
     ]
    }
   ],
   "source": [
    "!pip install nltk"
   ]
  },
  {
   "cell_type": "code",
   "execution_count": 2,
   "metadata": {},
   "outputs": [],
   "source": [
    "paragraph=\"Narendra Damodardas Modi (Gujarati: [ˈnəɾendɾə dɑmodəɾˈdɑs ˈmodiː] ⓘ; born 17 September 1950)[b] is an Indian politician who has served as the 14th prime minister of India since May 2014. Modi was the chief minister of Gujarat from 2001 to 2014 and is the Member of Parliament (MP) for Varanasi. He is a member of the Bharatiya Janata Party (BJP) and of the Rashtriya Swayamsevak Sangh (RSS), a right wing Hindu nationalist paramilitary volunteer organisation. He is the longest-serving prime minister from outside the Indian National Congress.Modi was born and raised in Vadnagar in northeastern Gujarat, where he completed his secondary education. He was introduced to the RSS at the age of eight. His account of helping his father sell tea at the Vadnagar railway station has not been reliably corroborated. At age 18, he was married to Jashodaben Modi, whom he abandoned soon after, only publicly acknowledging her four decades later when legally required to do so. Modi became a full-time worker for the RSS in Gujarat in 1971. The RSS assigned him to the BJP in 1985 and he held several positions within the party hierarchy until 2001, rising to the rank of general secretary.[c]\""
   ]
  },
  {
   "cell_type": "code",
   "execution_count": 3,
   "metadata": {},
   "outputs": [],
   "source": [
    "import nltk\n",
    "from nltk.stem import PorterStemmer\n",
    "from nltk.corpus import stopwords\n"
   ]
  },
  {
   "cell_type": "code",
   "execution_count": 5,
   "metadata": {},
   "outputs": [
    {
     "name": "stderr",
     "output_type": "stream",
     "text": [
      "[nltk_data] Downloading package punkt to\n",
      "[nltk_data]     C:\\Users\\mahen\\AppData\\Roaming\\nltk_data...\n",
      "[nltk_data]   Package punkt is already up-to-date!\n"
     ]
    }
   ],
   "source": [
    "# tokenization-- convert paragraph into sentences-words\n",
    "nltk.download('punkt') # in order to use the tokenization we need to download this punkit package\n",
    "sentences=nltk.sent_tokenize(paragraph)"
   ]
  },
  {
   "cell_type": "code",
   "execution_count": 6,
   "metadata": {},
   "outputs": [
    {
     "data": {
      "text/plain": [
       "['Narendra Damodardas Modi (Gujarati: [ˈnəɾendɾə dɑmodəɾˈdɑs ˈmodiː] ⓘ; born 17 September 1950)[b] is an Indian politician who has served as the 14th prime minister of India since May 2014.',\n",
       " 'Modi was the chief minister of Gujarat from 2001 to 2014 and is the Member of Parliament (MP) for Varanasi.',\n",
       " 'He is a member of the Bharatiya Janata Party (BJP) and of the Rashtriya Swayamsevak Sangh (RSS), a right wing Hindu nationalist paramilitary volunteer organisation.',\n",
       " 'He is the longest-serving prime minister from outside the Indian National Congress.Modi was born and raised in Vadnagar in northeastern Gujarat, where he completed his secondary education.',\n",
       " 'He was introduced to the RSS at the age of eight.',\n",
       " 'His account of helping his father sell tea at the Vadnagar railway station has not been reliably corroborated.',\n",
       " 'At age 18, he was married to Jashodaben Modi, whom he abandoned soon after, only publicly acknowledging her four decades later when legally required to do so.',\n",
       " 'Modi became a full-time worker for the RSS in Gujarat in 1971.',\n",
       " 'The RSS assigned him to the BJP in 1985 and he held several positions within the party hierarchy until 2001, rising to the rank of general secretary.',\n",
       " '[c]']"
      ]
     },
     "execution_count": 6,
     "metadata": {},
     "output_type": "execute_result"
    }
   ],
   "source": [
    "sentences"
   ]
  },
  {
   "cell_type": "code",
   "execution_count": 11,
   "metadata": {},
   "outputs": [
    {
     "name": "stdout",
     "output_type": "stream",
     "text": [
      "go play watch justif\n"
     ]
    }
   ],
   "source": [
    "stemmer=PorterStemmer()\n",
    "x=stemmer.stem('going')\n",
    "y=stemmer.stem('playing')\n",
    "z=stemmer.stem('watching')\n",
    "i=stemmer.stem('justification')\n",
    "print(x,y,z,i)"
   ]
  },
  {
   "cell_type": "code",
   "execution_count": 14,
   "metadata": {},
   "outputs": [
    {
     "name": "stdout",
     "output_type": "stream",
     "text": [
      "drinking justification\n"
     ]
    }
   ],
   "source": [
    "from nltk.stem import WordNetLemmatizer  \n",
    "lemmatizer=WordNetLemmatizer()\n",
    "x=lemmatizer.lemmatize('drinking')\n",
    "y=lemmatizer.lemmatize('justification')\n",
    "\n",
    "print(x,y)"
   ]
  },
  {
   "cell_type": "code",
   "execution_count": 15,
   "metadata": {},
   "outputs": [
    {
     "data": {
      "text/plain": [
       "10"
      ]
     },
     "execution_count": 15,
     "metadata": {},
     "output_type": "execute_result"
    }
   ],
   "source": [
    "len(sentences)"
   ]
  },
  {
   "cell_type": "code",
   "execution_count": 16,
   "metadata": {},
   "outputs": [],
   "source": [
    "import re  # here importing the regular expression "
   ]
  },
  {
   "cell_type": "code",
   "execution_count": 17,
   "metadata": {},
   "outputs": [],
   "source": [
    "# Now iam going to remove or clean the special characters in the sentences of corpus\n",
    "\n",
    "corpus=[]\n",
    "for i in range(len(sentences)):\n",
    "    review=re.sub('[^a-zA-Z]',' ',sentences[i])  # Regular expressions can contain both special and ordinary characters. Most ordinary characters, like \"A\", \"a\", or \"0\", are the simplest regular expressions and special characters are @ /n &!, so in order to remove these special characters we need to use this re module there i mention logic which is [^a-zA-Z]  it means this is the ^ other than symbol after a-zA-Z if i found any symbols other than these a-zA-Z then i will replace with that ' ' empty space and finally iam changing all new stences into lower case and then appending them into corpus list\n",
    "    review=review.lower()\n",
    "    corpus.append(review)"
   ]
  },
  {
   "cell_type": "code",
   "execution_count": 18,
   "metadata": {},
   "outputs": [
    {
     "data": {
      "text/plain": [
       "['narendra damodardas modi  gujarati    n  end   d mod   d s  modi      born    september       b  is an indian politician who has served as the   th prime minister of india since may      ',\n",
       " 'modi was the chief minister of gujarat from      to      and is the member of parliament  mp  for varanasi ',\n",
       " 'he is a member of the bharatiya janata party  bjp  and of the rashtriya swayamsevak sangh  rss   a right wing hindu nationalist paramilitary volunteer organisation ',\n",
       " 'he is the longest serving prime minister from outside the indian national congress modi was born and raised in vadnagar in northeastern gujarat  where he completed his secondary education ',\n",
       " 'he was introduced to the rss at the age of eight ',\n",
       " 'his account of helping his father sell tea at the vadnagar railway station has not been reliably corroborated ',\n",
       " 'at age     he was married to jashodaben modi  whom he abandoned soon after  only publicly acknowledging her four decades later when legally required to do so ',\n",
       " 'modi became a full time worker for the rss in gujarat in      ',\n",
       " 'the rss assigned him to the bjp in      and he held several positions within the party hierarchy until       rising to the rank of general secretary ',\n",
       " ' c ']"
      ]
     },
     "execution_count": 18,
     "metadata": {},
     "output_type": "execute_result"
    }
   ],
   "source": [
    "corpus"
   ]
  },
  {
   "cell_type": "markdown",
   "metadata": {},
   "source": [
    "#### Applying the stemming to the cleaned corpus\n"
   ]
  },
  {
   "cell_type": "code",
   "execution_count": 19,
   "metadata": {},
   "outputs": [
    {
     "name": "stdout",
     "output_type": "stream",
     "text": [
      "narendra\n",
      "damodarda\n",
      "modi\n",
      "gujarati\n",
      "n\n",
      "end\n",
      "mod\n",
      "modi\n",
      "born\n",
      "septemb\n",
      "b\n",
      "indian\n",
      "politician\n",
      "serv\n",
      "th\n",
      "prime\n",
      "minist\n",
      "india\n",
      "sinc\n",
      "may\n",
      "modi\n",
      "chief\n",
      "minist\n",
      "gujarat\n",
      "member\n",
      "parliament\n",
      "mp\n",
      "varanasi\n",
      "member\n",
      "bharatiya\n",
      "janata\n",
      "parti\n",
      "bjp\n",
      "rashtriya\n",
      "swayamsevak\n",
      "sangh\n",
      "rss\n",
      "right\n",
      "wing\n",
      "hindu\n",
      "nationalist\n",
      "paramilitari\n",
      "volunt\n",
      "organis\n",
      "longest\n",
      "serv\n",
      "prime\n",
      "minist\n",
      "outsid\n",
      "indian\n",
      "nation\n",
      "congress\n",
      "modi\n",
      "born\n",
      "rais\n",
      "vadnagar\n",
      "northeastern\n",
      "gujarat\n",
      "complet\n",
      "secondari\n",
      "educ\n",
      "introduc\n",
      "rss\n",
      "age\n",
      "eight\n",
      "account\n",
      "help\n",
      "father\n",
      "sell\n",
      "tea\n",
      "vadnagar\n",
      "railway\n",
      "station\n",
      "reliabl\n",
      "corrobor\n",
      "age\n",
      "marri\n",
      "jashodaben\n",
      "modi\n",
      "abandon\n",
      "soon\n",
      "publicli\n",
      "acknowledg\n",
      "four\n",
      "decad\n",
      "later\n",
      "legal\n",
      "requir\n",
      "modi\n",
      "becam\n",
      "full\n",
      "time\n",
      "worker\n",
      "rss\n",
      "gujarat\n",
      "rss\n",
      "assign\n",
      "bjp\n",
      "held\n",
      "sever\n",
      "posit\n",
      "within\n",
      "parti\n",
      "hierarchi\n",
      "rise\n",
      "rank\n",
      "gener\n",
      "secretari\n",
      "c\n"
     ]
    }
   ],
   "source": [
    "## stemming\n",
    "for i in corpus:  # here iam iterating over the cleaned corpus \n",
    "    words=nltk.word_tokenize(i) # here iam applying the tokinerzer sentences of corpus\n",
    "    for word in words:  # here iam iterating through the words and i have written the condition that if  the word is not present in the stopwords library then applying the stemming on the particular word \n",
    "        if word not in set(stopwords.words('english')):\n",
    "            print(stemmer.stem(word))"
   ]
  },
  {
   "cell_type": "code",
   "execution_count": 37,
   "metadata": {},
   "outputs": [
    {
     "name": "stdout",
     "output_type": "stream",
     "text": [
      "['narendra damodardas modi  gujarati    n  end   d mod   d s  modi      born    september       b  is an indian politician who has served as the   th prime minister of india since may      ', 'modi was the chief minister of gujarat from      to      and is the member of parliament  mp  for varanasi ', 'he is a member of the bharatiya janata party  bjp  and of the rashtriya swayamsevak sangh  rss   a right wing hindu nationalist paramilitary volunteer organisation ', 'he is the longest serving prime minister from outside the indian national congress modi was born and raised in vadnagar in northeastern gujarat  where he completed his secondary education ', 'he was introduced to the rss at the age of eight ', 'his account of helping his father sell tea at the vadnagar railway station has not been reliably corroborated ', 'at age     he was married to jashodaben modi  whom he abandoned soon after  only publicly acknowledging her four decades later when legally required to do so ', 'modi became a full time worker for the rss in gujarat in      ', 'the rss assigned him to the bjp in      and he held several positions within the party hierarchy until       rising to the rank of general secretary ', ' c ']\n"
     ]
    }
   ],
   "source": [
    "print(corpus)"
   ]
  },
  {
   "cell_type": "markdown",
   "metadata": {},
   "source": [
    "### Applying the Lemmatization on the sentences of corpus"
   ]
  },
  {
   "cell_type": "code",
   "execution_count": 21,
   "metadata": {},
   "outputs": [
    {
     "name": "stdout",
     "output_type": "stream",
     "text": [
      "narendra\n",
      "damodardas\n",
      "modi\n",
      "gujarati\n",
      "n\n",
      "end\n",
      "mod\n",
      "modi\n",
      "born\n",
      "september\n",
      "b\n",
      "indian\n",
      "politician\n",
      "served\n",
      "th\n",
      "prime\n",
      "minister\n",
      "india\n",
      "since\n",
      "may\n",
      "modi\n",
      "chief\n",
      "minister\n",
      "gujarat\n",
      "member\n",
      "parliament\n",
      "mp\n",
      "varanasi\n",
      "member\n",
      "bharatiya\n",
      "janata\n",
      "party\n",
      "bjp\n",
      "rashtriya\n",
      "swayamsevak\n",
      "sangh\n",
      "r\n",
      "right\n",
      "wing\n",
      "hindu\n",
      "nationalist\n",
      "paramilitary\n",
      "volunteer\n",
      "organisation\n",
      "longest\n",
      "serving\n",
      "prime\n",
      "minister\n",
      "outside\n",
      "indian\n",
      "national\n",
      "congress\n",
      "modi\n",
      "born\n",
      "raised\n",
      "vadnagar\n",
      "northeastern\n",
      "gujarat\n",
      "completed\n",
      "secondary\n",
      "education\n",
      "introduced\n",
      "r\n",
      "age\n",
      "eight\n",
      "account\n",
      "helping\n",
      "father\n",
      "sell\n",
      "tea\n",
      "vadnagar\n",
      "railway\n",
      "station\n",
      "reliably\n",
      "corroborated\n",
      "age\n",
      "married\n",
      "jashodaben\n",
      "modi\n",
      "abandoned\n",
      "soon\n",
      "publicly\n",
      "acknowledging\n",
      "four\n",
      "decade\n",
      "later\n",
      "legally\n",
      "required\n",
      "modi\n",
      "became\n",
      "full\n",
      "time\n",
      "worker\n",
      "r\n",
      "gujarat\n",
      "r\n",
      "assigned\n",
      "bjp\n",
      "held\n",
      "several\n",
      "position\n",
      "within\n",
      "party\n",
      "hierarchy\n",
      "rising\n",
      "rank\n",
      "general\n",
      "secretary\n",
      "c\n"
     ]
    }
   ],
   "source": [
    "## Lemmztization\n",
    "for i in corpus:  # here iam iterating over the cleaned corpus \n",
    "    words=nltk.word_tokenize(i) # here iam applying the tokinerzer sentences of corpus\n",
    "    for word in words:  # here iam iterating through the words and i have written the condition that if  the word is not present in the stopwords library then applying the stemming on the particular word \n",
    "        if word not in set(stopwords.words('english')):\n",
    "            print(lemmatizer.lemmatize(word))"
   ]
  },
  {
   "cell_type": "markdown",
   "metadata": {},
   "source": [
    "Lemmatization: After stopwords removal, lemmatization is applied to reduce words to their base or root form. For example, \"running\", \"ran\", and \"runs\" might all be lemmatized to \"run\". This helps in reducing the dimensionality of the feature space and capturing the essence of the words without considering their various inflections\n",
    "\n",
    "applied lemmatization to the whole corpus. Lemmatization was applied to each word in the corpus that was not present in the English stopwords list."
   ]
  },
  {
   "cell_type": "markdown",
   "metadata": {},
   "source": [
    "### Performing the Bag of Words  of Word Embbeded technqiue category of count/frequency "
   ]
  },
  {
   "cell_type": "code",
   "execution_count": 77,
   "metadata": {},
   "outputs": [],
   "source": [
    "from sklearn.feature_extraction.text import CountVectorizer  # iam taking this CountVectorizer because inorder to perform the Bag of words we need to select the most no of times of repeated features in the corpus so this CountVectorizer helps us to assign the key value to the cleaned corpus which consist of either lemmatization or stemming cleaned coprus but lemmatization corpus consist of more meaning full words as compared to stemming we are going to take the lemmatization corpus and by using the CountVectoirszer iam going to give the index values for the words \n",
    "cv=CountVectorizer(binary=True,ngram_range=(2,3))#max_features=4)  "
   ]
  },
  {
   "cell_type": "markdown",
   "metadata": {},
   "source": [
    "### binary=True\n",
    "\n",
    "binary=True: By setting binary to True, you're telling the CountVectorizer to consider only the presence or absence of a word in a document, rather than the frequency of the word. In other words, if a word appears in a document, its count in the corresponding feature vector will be 1; otherwise, it will be 0. This is often used when you're interested in whether a word is present in a document rather than how many times it appears.\n",
    "\n",
    "So, in summary, cv=CountVectorizer(binary=True) creates a CountVectorizer object that converts text data into a matrix where each element indicates whether a particular word is present (1) or absent (0) in each document, without considering the frequency of the words.\n",
    "\n",
    "\n",
    "### N_gram\n",
    "so, with ngram_range=(3,3), the CountVectorizer will consider each sequence of three consecutive words in the text as a feature. This helps capture some contextual information beyond individual words. You can adjust the ngram_range parameter to consider different n-gram lengths depending on the level of context you want to capture in your text representation.\n",
    "\n",
    "min_n: This is an integer specifying the smallest n-gram to consider. It indicates the minimum number of consecutive words to be considered as an n-gram. In the context of (3,3), min_n is 3, meaning the minimum n-gram considered is a trigram.\n",
    "\n",
    "max_n: This is also an integer specifying the largest n-gram to consider. It indicates the maximum number of consecutive words to be considered as an n-gram. In the context of (3,3), max_n is also 3, meaning only trigrams will be considered.\n",
    "\n",
    "So, ngram_range=(3,3) specifically tells the CountVectorizer to extract only trigrams from the text data. Each trigram consists of three consecutive words from the text. Adjusting ngram_range allows you to control the size of the n-grams extracted and thus the level of context captured in the text representation.\n",
    "\n",
    "#### max_features=n\n",
    " if you set max_features=4, the CountVectorizer will only select the top 4 most frequent words in the text corpus as features. All other words beyond these top 4 will be ignored.\n",
    "\n",
    "This parameter can be useful when you have a large corpus of text data and you want to limit the number of features to reduce the computational complexity or to focus only on the most informative words. However, it's important to note that setting max_features may result in the loss of some information present in the text data, particularly if important words are excluded due to this limitation."
   ]
  },
  {
   "cell_type": "code",
   "execution_count": 78,
   "metadata": {},
   "outputs": [],
   "source": [
    "X=cv.fit_transform(corpus) # by applying the fit_transform iam going to assgin the index values to the lemma words which are present in corpus"
   ]
  },
  {
   "cell_type": "code",
   "execution_count": 79,
   "metadata": {},
   "outputs": [
    {
     "data": {
      "text/plain": [
       "{'narendra damodardas': 171,\n",
       " 'damodardas modi': 51,\n",
       " 'modi gujarati': 162,\n",
       " 'gujarati end': 77,\n",
       " 'end mod': 56,\n",
       " 'mod modi': 156,\n",
       " 'modi born': 160,\n",
       " 'born september': 43,\n",
       " 'september is': 244,\n",
       " 'is an': 129,\n",
       " 'an indian': 12,\n",
       " 'indian politician': 125,\n",
       " 'politician who': 207,\n",
       " 'who has': 322,\n",
       " 'has served': 81,\n",
       " 'served as': 246,\n",
       " 'as the': 22,\n",
       " 'the th': 287,\n",
       " 'th prime': 261,\n",
       " 'prime minister': 211,\n",
       " 'minister of': 153,\n",
       " 'of india': 188,\n",
       " 'india since': 121,\n",
       " 'since may': 252,\n",
       " 'narendra damodardas modi': 172,\n",
       " 'damodardas modi gujarati': 52,\n",
       " 'modi gujarati end': 163,\n",
       " 'gujarati end mod': 78,\n",
       " 'end mod modi': 57,\n",
       " 'mod modi born': 157,\n",
       " 'modi born september': 161,\n",
       " 'born september is': 44,\n",
       " 'september is an': 245,\n",
       " 'is an indian': 130,\n",
       " 'an indian politician': 13,\n",
       " 'indian politician who': 126,\n",
       " 'politician who has': 208,\n",
       " 'who has served': 323,\n",
       " 'has served as': 82,\n",
       " 'served as the': 247,\n",
       " 'as the th': 23,\n",
       " 'the th prime': 288,\n",
       " 'th prime minister': 262,\n",
       " 'prime minister of': 213,\n",
       " 'minister of india': 155,\n",
       " 'of india since': 189,\n",
       " 'india since may': 122,\n",
       " 'modi was': 164,\n",
       " 'was the': 316,\n",
       " 'the chief': 269,\n",
       " 'chief minister': 45,\n",
       " 'of gujarat': 184,\n",
       " 'gujarat from': 72,\n",
       " 'from to': 67,\n",
       " 'to and': 293,\n",
       " 'and is': 16,\n",
       " 'is the': 133,\n",
       " 'the member': 275,\n",
       " 'member of': 148,\n",
       " 'of parliament': 190,\n",
       " 'parliament mp': 201,\n",
       " 'mp for': 169,\n",
       " 'for varanasi': 62,\n",
       " 'modi was the': 166,\n",
       " 'was the chief': 317,\n",
       " 'the chief minister': 270,\n",
       " 'chief minister of': 46,\n",
       " 'minister of gujarat': 154,\n",
       " 'of gujarat from': 185,\n",
       " 'gujarat from to': 73,\n",
       " 'from to and': 68,\n",
       " 'to and is': 294,\n",
       " 'and is the': 17,\n",
       " 'is the member': 135,\n",
       " 'the member of': 276,\n",
       " 'member of parliament': 149,\n",
       " 'of parliament mp': 191,\n",
       " 'parliament mp for': 202,\n",
       " 'mp for varanasi': 170,\n",
       " 'he is': 89,\n",
       " 'is member': 131,\n",
       " 'of the': 192,\n",
       " 'the bharatiya': 265,\n",
       " 'bharatiya janata': 35,\n",
       " 'janata party': 136,\n",
       " 'party bjp': 203,\n",
       " 'bjp and': 37,\n",
       " 'and of': 18,\n",
       " 'the rashtriya': 281,\n",
       " 'rashtriya swayamsevak': 222,\n",
       " 'swayamsevak sangh': 257,\n",
       " 'sangh rss': 239,\n",
       " 'rss right': 237,\n",
       " 'right wing': 227,\n",
       " 'wing hindu': 326,\n",
       " 'hindu nationalist': 105,\n",
       " 'nationalist paramilitary': 175,\n",
       " 'paramilitary volunteer': 199,\n",
       " 'volunteer organisation': 309,\n",
       " 'he is member': 90,\n",
       " 'is member of': 132,\n",
       " 'member of the': 150,\n",
       " 'of the bharatiya': 193,\n",
       " 'the bharatiya janata': 266,\n",
       " 'bharatiya janata party': 36,\n",
       " 'janata party bjp': 137,\n",
       " 'party bjp and': 204,\n",
       " 'bjp and of': 38,\n",
       " 'and of the': 19,\n",
       " 'of the rashtriya': 194,\n",
       " 'the rashtriya swayamsevak': 282,\n",
       " 'rashtriya swayamsevak sangh': 223,\n",
       " 'swayamsevak sangh rss': 258,\n",
       " 'sangh rss right': 240,\n",
       " 'rss right wing': 238,\n",
       " 'right wing hindu': 228,\n",
       " 'wing hindu nationalist': 327,\n",
       " 'hindu nationalist paramilitary': 106,\n",
       " 'nationalist paramilitary volunteer': 176,\n",
       " 'paramilitary volunteer organisation': 200,\n",
       " 'the longest': 273,\n",
       " 'longest serving': 144,\n",
       " 'serving prime': 248,\n",
       " 'minister from': 151,\n",
       " 'from outside': 65,\n",
       " 'outside the': 197,\n",
       " 'the indian': 271,\n",
       " 'indian national': 123,\n",
       " 'national congress': 173,\n",
       " 'congress modi': 49,\n",
       " 'was born': 310,\n",
       " 'born and': 41,\n",
       " 'and raised': 20,\n",
       " 'raised in': 218,\n",
       " 'in vadnagar': 119,\n",
       " 'vadnagar in': 305,\n",
       " 'in northeastern': 117,\n",
       " 'northeastern gujarat': 177,\n",
       " 'gujarat where': 75,\n",
       " 'where he': 320,\n",
       " 'he completed': 85,\n",
       " 'completed his': 47,\n",
       " 'his secondary': 111,\n",
       " 'secondary education': 241,\n",
       " 'he is the': 91,\n",
       " 'is the longest': 134,\n",
       " 'the longest serving': 274,\n",
       " 'longest serving prime': 145,\n",
       " 'serving prime minister': 249,\n",
       " 'prime minister from': 212,\n",
       " 'minister from outside': 152,\n",
       " 'from outside the': 66,\n",
       " 'outside the indian': 198,\n",
       " 'the indian national': 272,\n",
       " 'indian national congress': 124,\n",
       " 'national congress modi': 174,\n",
       " 'congress modi was': 50,\n",
       " 'modi was born': 165,\n",
       " 'was born and': 311,\n",
       " 'born and raised': 42,\n",
       " 'and raised in': 21,\n",
       " 'raised in vadnagar': 219,\n",
       " 'in vadnagar in': 120,\n",
       " 'vadnagar in northeastern': 306,\n",
       " 'in northeastern gujarat': 118,\n",
       " 'northeastern gujarat where': 178,\n",
       " 'gujarat where he': 76,\n",
       " 'where he completed': 321,\n",
       " 'he completed his': 86,\n",
       " 'completed his secondary': 48,\n",
       " 'his secondary education': 112,\n",
       " 'he was': 92,\n",
       " 'was introduced': 312,\n",
       " 'introduced to': 127,\n",
       " 'to the': 299,\n",
       " 'the rss': 283,\n",
       " 'rss at': 233,\n",
       " 'at the': 28,\n",
       " 'the age': 263,\n",
       " 'age of': 10,\n",
       " 'of eight': 181,\n",
       " 'he was introduced': 93,\n",
       " 'was introduced to': 313,\n",
       " 'introduced to the': 128,\n",
       " 'to the rss': 302,\n",
       " 'the rss at': 285,\n",
       " 'rss at the': 234,\n",
       " 'at the age': 29,\n",
       " 'the age of': 264,\n",
       " 'age of eight': 11,\n",
       " 'his account': 107,\n",
       " 'account of': 2,\n",
       " 'of helping': 186,\n",
       " 'helping his': 97,\n",
       " 'his father': 109,\n",
       " 'father sell': 58,\n",
       " 'sell tea': 242,\n",
       " 'tea at': 259,\n",
       " 'the vadnagar': 289,\n",
       " 'vadnagar railway': 307,\n",
       " 'railway station': 216,\n",
       " 'station has': 255,\n",
       " 'has not': 79,\n",
       " 'not been': 179,\n",
       " 'been reliably': 33,\n",
       " 'reliably corroborated': 224,\n",
       " 'his account of': 108,\n",
       " 'account of helping': 3,\n",
       " 'of helping his': 187,\n",
       " 'helping his father': 98,\n",
       " 'his father sell': 110,\n",
       " 'father sell tea': 59,\n",
       " 'sell tea at': 243,\n",
       " 'tea at the': 260,\n",
       " 'at the vadnagar': 30,\n",
       " 'the vadnagar railway': 290,\n",
       " 'vadnagar railway station': 308,\n",
       " 'railway station has': 217,\n",
       " 'station has not': 256,\n",
       " 'has not been': 80,\n",
       " 'not been reliably': 180,\n",
       " 'been reliably corroborated': 34,\n",
       " 'at age': 26,\n",
       " 'age he': 8,\n",
       " 'was married': 314,\n",
       " 'married to': 146,\n",
       " 'to jashodaben': 297,\n",
       " 'jashodaben modi': 138,\n",
       " 'modi whom': 167,\n",
       " 'whom he': 324,\n",
       " 'he abandoned': 83,\n",
       " 'abandoned soon': 0,\n",
       " 'soon after': 253,\n",
       " 'after only': 6,\n",
       " 'only publicly': 195,\n",
       " 'publicly acknowledging': 214,\n",
       " 'acknowledging her': 4,\n",
       " 'her four': 99,\n",
       " 'four decades': 63,\n",
       " 'decades later': 53,\n",
       " 'later when': 140,\n",
       " 'when legally': 318,\n",
       " 'legally required': 142,\n",
       " 'required to': 225,\n",
       " 'to do': 295,\n",
       " 'do so': 55,\n",
       " 'at age he': 27,\n",
       " 'age he was': 9,\n",
       " 'he was married': 94,\n",
       " 'was married to': 315,\n",
       " 'married to jashodaben': 147,\n",
       " 'to jashodaben modi': 298,\n",
       " 'jashodaben modi whom': 139,\n",
       " 'modi whom he': 168,\n",
       " 'whom he abandoned': 325,\n",
       " 'he abandoned soon': 84,\n",
       " 'abandoned soon after': 1,\n",
       " 'soon after only': 254,\n",
       " 'after only publicly': 7,\n",
       " 'only publicly acknowledging': 196,\n",
       " 'publicly acknowledging her': 215,\n",
       " 'acknowledging her four': 5,\n",
       " 'her four decades': 100,\n",
       " 'four decades later': 64,\n",
       " 'decades later when': 54,\n",
       " 'later when legally': 141,\n",
       " 'when legally required': 319,\n",
       " 'legally required to': 143,\n",
       " 'required to do': 226,\n",
       " 'to do so': 296,\n",
       " 'modi became': 158,\n",
       " 'became full': 31,\n",
       " 'full time': 69,\n",
       " 'time worker': 291,\n",
       " 'worker for': 330,\n",
       " 'for the': 60,\n",
       " 'rss in': 235,\n",
       " 'in gujarat': 115,\n",
       " 'gujarat in': 74,\n",
       " 'modi became full': 159,\n",
       " 'became full time': 32,\n",
       " 'full time worker': 70,\n",
       " 'time worker for': 292,\n",
       " 'worker for the': 331,\n",
       " 'for the rss': 61,\n",
       " 'the rss in': 286,\n",
       " 'rss in gujarat': 236,\n",
       " 'in gujarat in': 116,\n",
       " 'rss assigned': 231,\n",
       " 'assigned him': 24,\n",
       " 'him to': 103,\n",
       " 'the bjp': 267,\n",
       " 'bjp in': 39,\n",
       " 'in and': 113,\n",
       " 'and he': 14,\n",
       " 'he held': 87,\n",
       " 'held several': 95,\n",
       " 'several positions': 250,\n",
       " 'positions within': 209,\n",
       " 'within the': 328,\n",
       " 'the party': 277,\n",
       " 'party hierarchy': 205,\n",
       " 'hierarchy until': 101,\n",
       " 'until rising': 303,\n",
       " 'rising to': 229,\n",
       " 'the rank': 279,\n",
       " 'rank of': 220,\n",
       " 'of general': 182,\n",
       " 'general secretary': 71,\n",
       " 'the rss assigned': 284,\n",
       " 'rss assigned him': 232,\n",
       " 'assigned him to': 25,\n",
       " 'him to the': 104,\n",
       " 'to the bjp': 300,\n",
       " 'the bjp in': 268,\n",
       " 'bjp in and': 40,\n",
       " 'in and he': 114,\n",
       " 'and he held': 15,\n",
       " 'he held several': 88,\n",
       " 'held several positions': 96,\n",
       " 'several positions within': 251,\n",
       " 'positions within the': 210,\n",
       " 'within the party': 329,\n",
       " 'the party hierarchy': 278,\n",
       " 'party hierarchy until': 206,\n",
       " 'hierarchy until rising': 102,\n",
       " 'until rising to': 304,\n",
       " 'rising to the': 230,\n",
       " 'to the rank': 301,\n",
       " 'the rank of': 280,\n",
       " 'rank of general': 221,\n",
       " 'of general secretary': 183}"
      ]
     },
     "execution_count": 79,
     "metadata": {},
     "output_type": "execute_result"
    }
   ],
   "source": [
    "cv.vocabulary_ # as we can see the below are the  index values for each lemma root word whcih are present in the corpus "
   ]
  },
  {
   "cell_type": "markdown",
   "metadata": {},
   "source": [
    "The index value is assigned based on the order of appearance of the words in the vocabulary, not based on their position in any specific document of the corpus.\n",
    "\n",
    "So, even if \"narendra\" appears at the beginning of your cleaned corpus, if there are other words that come before it in the vocabulary (due to alphabetical order, frequency, etc.), it will be assigned an index value based on its position in the vocabulary.\n",
    "\n",
    "If \"narendra\" is assigned the index value of 59, it means there are 58 unique words that come before it in the vocabulary created by the CountVectorizer."
   ]
  },
  {
   "cell_type": "code",
   "execution_count": 80,
   "metadata": {},
   "outputs": [
    {
     "data": {
      "text/plain": [
       "'narendra damodardas modi  gujarati    n  end   d mod   d s  modi      born    september       b  is an indian politician who has served as the   th prime minister of india since may      '"
      ]
     },
     "execution_count": 80,
     "metadata": {},
     "output_type": "execute_result"
    }
   ],
   "source": [
    "corpus[0] # suppose lets see what is the sentence 1 in the corpus by passing the index value 0 to the corpus variable "
   ]
  },
  {
   "cell_type": "code",
   "execution_count": 81,
   "metadata": {},
   "outputs": [
    {
     "data": {
      "text/plain": [
       "(10, 332)"
      ]
     },
     "execution_count": 81,
     "metadata": {},
     "output_type": "execute_result"
    }
   ],
   "source": [
    "X.shape  # so X variable contains the data which is in shape of 10, 114 which means there are total 10 sentences are there and there are total 114 words are there for them we assigned index values "
   ]
  },
  {
   "cell_type": "markdown",
   "metadata": {},
   "source": [
    "The shape (10, 114) that you obtained after applying CountVectorizer means that you have a matrix with 10 rows and 114 columns. This suggests that your corpus contains 10 documents (or sentences) and after lemmatization and vectorization, you ended up with 114 unique words/features."
   ]
  },
  {
   "cell_type": "code",
   "execution_count": 82,
   "metadata": {},
   "outputs": [
    {
     "name": "stdout",
     "output_type": "stream",
     "text": [
      "[[0 0 0 0 0 0 0 0 0 0 0 0 1 1 0 0 0 0 0 0 0 0 1 1 0 0 0 0 0 0 0 0 0 0 0 0\n",
      "  0 0 0 0 0 0 0 1 1 0 0 0 0 0 0 1 1 0 0 0 1 1 0 0 0 0 0 0 0 0 0 0 0 0 0 0\n",
      "  0 0 0 0 0 1 1 0 0 1 1 0 0 0 0 0 0 0 0 0 0 0 0 0 0 0 0 0 0 0 0 0 0 0 0 0\n",
      "  0 0 0 0 0 0 0 0 0 0 0 0 0 1 1 0 0 1 1 0 0 1 1 0 0 0 0 0 0 0 0 0 0 0 0 0\n",
      "  0 0 0 0 0 0 0 0 0 1 0 1 1 1 0 0 1 1 1 1 0 0 0 0 0 0 0 1 1 0 0 0 0 0 0 0\n",
      "  0 0 0 0 0 0 0 0 1 1 0 0 0 0 0 0 0 0 0 0 0 0 0 0 0 0 0 1 1 0 0 1 0 1 0 0\n",
      "  0 0 0 0 0 0 0 0 0 0 0 0 0 0 0 0 0 0 0 0 0 0 0 0 0 0 0 0 1 1 1 1 0 0 0 0\n",
      "  1 0 0 0 0 0 0 0 0 1 1 0 0 0 0 0 0 0 0 0 0 0 0 0 0 0 0 0 0 0 0 0 0 0 0 1\n",
      "  1 0 0 0 0 0 0 0 0 0 0 0 0 0 0 0 0 0 0 0 0 0 0 0 0 0 0 0 0 0 0 0 0 0 1 1\n",
      "  0 0 0 0 0 0 0 0]]\n"
     ]
    }
   ],
   "source": [
    "print(X[0].toarray())  # so this X contains the lemma words with assigned index values by COunt Vectorizer so in the whole corpus wherever the we assign the imdex values to the lemma root words for those lemma root words we can see for that lemma root word in the corpus 1 gets assigned and "
   ]
  },
  {
   "cell_type": "markdown",
   "metadata": {},
   "source": [
    "What does the array X[0].toarray() represent, and why are there 1s at certain positions?\n",
    "The array X[0].toarray() represents the bag-of-words representation of the first document in your corpus. Each element in the array corresponds to the count of a particular word in the document. The occurrence of 1 at certain positions indicates that the corresponding word in the vocabulary (represented by the index) is present in the document once."
   ]
  },
  {
   "cell_type": "markdown",
   "metadata": {},
   "source": [
    "#### Overview of Bag of words\n",
    "\n",
    "AS we can see the array which contains the 114 unique features which got assigned the index values according to vocabulury priority by countVectorier so for the first document we can see the raw text for the coprus of the first document which we called by 0 index value so for this first document if we want to check how many number of times those words got repeated that gets calculated by print varaible X which consist of 114 unqiue features with index values so where ever we see 2 or 1 for the 1st document it means that particular word at that particular index that word of the 1st document repeated for that many times and whichever the words doesnot repeat even for 1 time in the 1st document i making them all zero so this is the conecept of  bag of words "
   ]
  },
  {
   "cell_type": "code",
   "execution_count": null,
   "metadata": {},
   "outputs": [],
   "source": []
  },
  {
   "cell_type": "markdown",
   "metadata": {},
   "source": [
    "### Implemention Tf-id Vectorizer Embedded type"
   ]
  },
  {
   "cell_type": "code",
   "execution_count": 88,
   "metadata": {},
   "outputs": [],
   "source": [
    "from sklearn.feature_extraction.text import TfidfVectorizer  # iam taking this CountVectorizer because inorder to perform the Bag of words we need to select the most no of times of repeated features in the corpus so this CountVectorizer helps us to assign the key value to the cleaned corpus which consist of either lemmatization or stemming cleaned coprus but lemmatization corpus consist of more meaning full words as compared to stemming we are going to take the lemmatization corpus and by using the CountVectoirszer iam going to give the index values for the words \n",
    "cv=TfidfVectorizer(binary=True,ngram_range=(2,3),max_features=10)#max_features=4)  "
   ]
  },
  {
   "cell_type": "code",
   "execution_count": 89,
   "metadata": {},
   "outputs": [],
   "source": [
    "X=cv.fit_transform(corpus)"
   ]
  },
  {
   "cell_type": "code",
   "execution_count": 92,
   "metadata": {},
   "outputs": [
    {
     "data": {
      "text/plain": [
       "{'prime minister': 7,\n",
       " 'minister of': 5,\n",
       " 'modi was': 6,\n",
       " 'is the': 3,\n",
       " 'member of': 4,\n",
       " 'he is': 1,\n",
       " 'he was': 2,\n",
       " 'to the': 9,\n",
       " 'the rss': 8,\n",
       " 'at the': 0}"
      ]
     },
     "execution_count": 92,
     "metadata": {},
     "output_type": "execute_result"
    }
   ],
   "source": [
    "cv.vocabulary_"
   ]
  },
  {
   "cell_type": "code",
   "execution_count": 90,
   "metadata": {},
   "outputs": [
    {
     "data": {
      "text/plain": [
       "'narendra damodardas modi  gujarati    n  end   d mod   d s  modi      born    september       b  is an indian politician who has served as the   th prime minister of india since may      '"
      ]
     },
     "execution_count": 90,
     "metadata": {},
     "output_type": "execute_result"
    }
   ],
   "source": [
    "corpus[0]"
   ]
  },
  {
   "cell_type": "code",
   "execution_count": 91,
   "metadata": {},
   "outputs": [
    {
     "data": {
      "text/plain": [
       "array([[0.        , 0.        , 0.        , 0.        , 0.        ,\n",
       "        0.70710678, 0.        , 0.70710678, 0.        , 0.        ]])"
      ]
     },
     "execution_count": 91,
     "metadata": {},
     "output_type": "execute_result"
    }
   ],
   "source": [
    "X[0].toarray()"
   ]
  },
  {
   "cell_type": "code",
   "execution_count": null,
   "metadata": {},
   "outputs": [],
   "source": []
  },
  {
   "cell_type": "code",
   "execution_count": null,
   "metadata": {},
   "outputs": [],
   "source": []
  }
 ],
 "metadata": {
  "kernelspec": {
   "display_name": "base",
   "language": "python",
   "name": "python3"
  },
  "language_info": {
   "codemirror_mode": {
    "name": "ipython",
    "version": 3
   },
   "file_extension": ".py",
   "mimetype": "text/x-python",
   "name": "python",
   "nbconvert_exporter": "python",
   "pygments_lexer": "ipython3",
   "version": "3.11.5"
  }
 },
 "nbformat": 4,
 "nbformat_minor": 2
}
